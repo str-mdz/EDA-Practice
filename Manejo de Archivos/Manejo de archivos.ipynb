{
 "cells": [
  {
   "cell_type": "markdown",
   "metadata": {},
   "source": [
    "## Práctica 10: Archivos\n",
    "- **Objetivo:** Conocer e identificar los aspectos sobre los archivos, como las operaciones, el tipo de acceso y organización lógica.\n",
    "\n",
    "- **Actividades:** Trabajar con operaciones, tipo de acceso y organización lógica de TDA archivo en algún lenguaje de programación.\n",
    "\n",
    "- **Instrucciones:**\n",
    "    • Simular un sistema de archivos utilizando un árbol B.\n",
    "\n",
    "    • A partir del programa del árbol B realizado en la práctica pasada, crear un sistema de archivos que simule la organización lógica de un Sistema Operativo\n",
    "\n",
    "    • El sistema de archivos debe manejar los niveles de acceso (pags. 29 y 30) y las operaciones básicas (pags. 31 y 32) que se mencionaron en la presentación del tema 5.\n",
    "    \n",
    "    • El sistema debe cumplir con las siguientes condiciones:\n",
    "        - Tener mínimo 10 usuarios en el sistema con diferentes niveles de acceso\n",
    "        - Tener mínimo 1,000 archivos en el árbol B con diferentes niveles de acceso para las operaciones básicas\n",
    "        \n",
    "    • Los usuarios, los permisos y la información de los archivos se deben leer de un archivo de texto plano (json, xml, csv, etc.)"
   ]
  },
  {
   "cell_type": "code",
   "execution_count": 1,
   "metadata": {},
   "outputs": [],
   "source": [
    "import csv\n",
    "import matplotlib.pyplot as plt"
   ]
  },
  {
   "cell_type": "markdown",
   "metadata": {},
   "source": [
    "C Ó D I G O _ Á R B O L _ B"
   ]
  },
  {
   "cell_type": "code",
   "execution_count": 2,
   "metadata": {},
   "outputs": [],
   "source": [
    "class Data:\n",
    "    def __init__(self, key, value):\n",
    "        self.key = key\n",
    "        self.value = value\n",
    "\n",
    "    def __str__(self):\n",
    "        return str(self.key) + \"->\" + self.value\n",
    "\n",
    "class BTreeNode:\n",
    "    def __init__(self, t, leaf):\n",
    "        # t es el grado mínimo del B-Tree, y leaf indica si el nodo es una hoja (True o False).       \n",
    "        self.t = t  # Grado mínimo del B-Tree.\n",
    "        self.keys = [None] * (2 * t - 1)  # Lista para almacenar claves en el nodo (máximo 2t - 1 claves).\n",
    "        self.C = [None] * (2 * t)  # Lista de hijos (máximo 2t hijos).\n",
    "        self.n = 0  # Número actual de claves en el nodo.\n",
    "        self.leaf = leaf  # Si es una hoja o no.\n",
    "\n",
    "    def insertNonFull(self, data, ):\n",
    "        # Inserta una nueva clave en un nodo que no está lleno.\n",
    "        i = self.n - 1  # Empieza desde la última clave en el nodo.\n",
    "\n",
    "        if self.leaf:\n",
    "            # Si el nodo es una hoja, las claves deben insertarse directamente en el nodo.\n",
    "\n",
    "            while (i >= 0) and (self.keys[i].key > data.key):\n",
    "                # Desplaza las claves hacia la derecha para hacer espacio para la nueva clave.\n",
    "\n",
    "                self.keys[i + 1] = self.keys[i]\n",
    "                i -= 1\n",
    "\n",
    "            # Inserta la nueva clave en la posición correcta.\n",
    "            self.keys[i + 1] = data\n",
    "            self.n += 1  # Incrementa el número de claves en el nodo.\n",
    "            \n",
    "        else:\n",
    "            # Si el nodo no es una hoja, busca el hijo correcto donde insertar la clave.\n",
    "\n",
    "            while (i >= 0) and (self.keys[i].key > data.key):\n",
    "                # Encuentra el hijo adecuado para la nueva clave.\n",
    "                i -= 1\n",
    "\n",
    "            # Si el hijo ya está lleno, hay que dividirlo.\n",
    "            if self.C[i + 1].n == 2 * self.t - 1:\n",
    "                self.splitChild(i + 1, self.C[i + 1])\n",
    "\n",
    "                # Después de la división, decide cuál de los dos hijos usar para la inserción.\n",
    "                if self.keys[i + 1].key < data.key:\n",
    "                    i += 1\n",
    "\n",
    "            # Inserta recursivamente en el hijo adecuado.\n",
    "            self.C[i + 1].insertNonFull(data)\n",
    "\n",
    "    def splitChild(self, i, y):\n",
    "        # Divide el nodo hijo y crea un nuevo nodo.\n",
    "\n",
    "        z = BTreeNode(y.t, y.leaf)  # Crea un nuevo nodo z.\n",
    "        z.n = self.t - 1  # El nuevo nodo tendrá t - 1 claves.\n",
    "\n",
    "        for j in range(self.t - 1):\n",
    "            # Copia las últimas t - 1 claves de y a z.\n",
    "            z.keys[j] = y.keys[j + self.t]\n",
    "\n",
    "        if not y.leaf:\n",
    "            # Si y no es una hoja, también copia los hijos correspondientes a z.\n",
    "            for j in range(self.t):\n",
    "                z.C[j] = y.C[j + self.t]\n",
    "\n",
    "        y.n = self.t - 1  # Reduce el número de claves en y.\n",
    "\n",
    "        for j in range(self.n, i, -1):\n",
    "            # Mueve los punteros a los hijos en el nodo actual para hacer espacio para z.\n",
    "            self.C[j + 1] = self.C[j]\n",
    "        self.C[i + 1] = z  # Conecta el nuevo nodo z al nodo actual.\n",
    "\n",
    "        for j in range(self.n - 1, i - 1, -1):\n",
    "            # Mueve las claves en el nodo actual para hacer espacio para la nueva clave.\n",
    "            self.keys[j + 1] = self.keys[j]\n",
    "        self.keys[i] = y.keys[self.t - 1]  # Eleva la clave mediana de y al nodo actual.\n",
    "        self.n += 1  # Incrementa el número de claves en el nodo actual.\n",
    "\n",
    "    def traverse(self, l):\n",
    "        # Realiza un recorrido en el B-Tree e imprime las claves.\n",
    "\n",
    "        for i in range(self.n):\n",
    "            \n",
    "            if not self.leaf:\n",
    "                # Si el nodo no es una hoja, visita el subárbol hijo antes de imprimir la clave.\n",
    "                self.C[i].traverse(l + 1)\n",
    "            print(\"\\t\" * l, l, self.keys[i].key, end=' ')\n",
    "        print()\n",
    "\n",
    "        if not self.leaf:\n",
    "            # Visita el subárbol hijo que sigue después de imprimir las claves.\n",
    "            self.C[i + 1].traverse(l + 1)\n",
    "\n",
    "    def search(self, k):\n",
    "        # Busca una clave en el B-Tree.\n",
    "        i = 0\n",
    "        while (i < self.n) and (k > self.keys[i].key):\n",
    "            # Recorre las claves en el nodo hasta encontrar la clave o el lugar donde debería estar.\n",
    "            i += 1\n",
    "\n",
    "        if (i < self.n) and (k == self.keys[i].key):\n",
    "            # Si encuentra la clave, la devuelve.\n",
    "            return self.keys[i]\n",
    "\n",
    "        if self.leaf:\n",
    "            # Si llega a una hoja y no encuentra la clave, devuelve None (clave no encontrada).\n",
    "            return None\n",
    "\n",
    "        # Si no está en la hoja, busca recursivamente en el hijo adecuado.\n",
    "        return self.C[i].search(k)\n",
    "class BTree:\n",
    "    # Esta clase representa el B-Tree en sí, que gestiona los nodos y proporciona operaciones\n",
    "    # de búsqueda, inserción y recorrido.\n",
    "\n",
    "    def __init__(self, t):\n",
    "        # Constructor de la clase BTree.\n",
    "        # Inicializa un B-Tree con grado mínimo t (número mínimo de claves por nodo).\n",
    "        self.root = None  # La raíz del árbol comienza como None (árbol vacío).\n",
    "        self.t = t  # Grado mínimo del B-Tree, se utiliza para determinar el tamaño máximo/mínimo de los nodos.\n",
    "\n",
    "    def traverse(self):\n",
    "        # Realiza un recorrido del árbol e imprime las claves.\n",
    "        if self.root != None:\n",
    "            # Si el árbol no está vacío, llama al método 'traverse' de la raíz.\n",
    "            self.root.traverse(0)\n",
    "\n",
    "    def search(self, k):\n",
    "        # Busca una clave 'k' en el B-Tree.\n",
    "        # Si el árbol está vacío (root es None), devuelve None.\n",
    "        # Si no está vacío, llama al método 'search' del nodo raíz.\n",
    "        return None if self.root == None else self.root.search(k)\n",
    "\n",
    "    def insert(self, data):\n",
    "        # Inserta un nuevo dato (par clave-valor) en el árbol.\n",
    "\n",
    "        if self.root == None:\n",
    "            # Si el árbol está vacío, crea un nuevo nodo raíz y lo convierte en una hoja.\n",
    "            # El nuevo nodo contendrá el dato 'data' que se inserta.\n",
    "            self.root = BTreeNode(self.t, True)  # Crea un nodo raíz que es una hoja.\n",
    "            self.root.keys[0] = data  # Inserta el dato en la primera posición del nodo.\n",
    "            self.root.n = 1  # El nodo ahora tiene una clave.\n",
    "\n",
    "        else:\n",
    "            # Si el árbol no está vacío, verifica si la raíz está llena (n == 2 * t - 1).\n",
    "            if self.root.n == 2 * self.t - 1:\n",
    "                # Si la raíz está llena, debe dividirse.\n",
    "\n",
    "                # Crea un nuevo nodo 's' que se convierte en la nueva raíz.\n",
    "                s = BTreeNode(self.t, False)  # El nuevo nodo no será una hoja.\n",
    "                s.C[0] = self.root  # La antigua raíz se convierte en el primer hijo de 's'.\n",
    "\n",
    "                # Divide el nodo raíz, y 's' tendrá dos hijos después de la división.\n",
    "                s.splitChild(0, self.root)\n",
    "\n",
    "                # Después de la división, decide cuál de los dos hijos debe recibir la nueva clave.\n",
    "                i = 0\n",
    "                if s.keys[0].key < data.key:\n",
    "                    i += 1  # Si la clave en 'data' es mayor, se inserta en el hijo derecho.\n",
    "\n",
    "                # Inserta el dato en el hijo adecuado de 's'.\n",
    "                s.C[i].insertNonFull(data)\n",
    "\n",
    "                # Actualiza la raíz del árbol a 's'.\n",
    "                self.root = s\n",
    "\n",
    "            else:\n",
    "                # Si la raíz no está llena, inserta el dato directamente en la raíz.\n",
    "                self.root.insertNonFull(data)\n",
    "\n"
   ]
  },
  {
   "cell_type": "code",
   "execution_count": 3,
   "metadata": {},
   "outputs": [
    {
     "name": "stdout",
     "output_type": "stream",
     "text": [
      "\t\t 2 10 \t\t 2 13 \t\t 2 15 \n",
      "\t 1 17 \n",
      "\t\t 2 19 \t\t 2 20 \n",
      " 0 21 \t\t 2 24 \t\t 2 25 \n",
      "\t 1 27 \n",
      "\t\t 2 29 \n",
      " 0 31 \n",
      "\t\t 2 35 \t\t 2 48 \n",
      "\t 1 51 \n",
      "\t\t 2 60 \t\t 2 66 \n",
      "\n",
      "sujsd\n"
     ]
    }
   ],
   "source": [
    "import random \n",
    "import string \n",
    "LENGTH_STR = 5\n",
    "D = 2\n",
    "values = [10, 27, 29, 17, 25, 21, 15, 31, 13, 51, 20, 24, 48, 19, 60, 35, 66]\n",
    "\n",
    "def randstring(length):\n",
    "    letters = string.ascii_lowercase\n",
    "    result_str = \"\".join(random.choice(letters) for i in range(length)) \n",
    "    return result_str\n",
    "\n",
    "if __name__ == '__main__':\n",
    "    t = BTree(D)\n",
    "\n",
    "    for value in values:\n",
    "        t.insert(Data(value, randstring (LENGTH_STR)))\n",
    "\n",
    "    t.traverse()\n",
    "    print()\n",
    "\n",
    "    k = 10\n",
    "    prueba = t.search(k)\n",
    "    \n",
    "    print(prueba.value)\n"
   ]
  },
  {
   "cell_type": "markdown",
   "metadata": {},
   "source": [
    "L E E R _ U S U A R I O S"
   ]
  },
  {
   "cell_type": "code",
   "execution_count": 4,
   "metadata": {},
   "outputs": [
    {
     "name": "stdout",
     "output_type": "stream",
     "text": [
      "['usuario1', 'pass1', 'lectura']\n",
      "['usuario2', 'pass2', 'escritura']\n",
      "['usuario3', 'pass3', 'ejecucion']\n",
      "['usuario4', 'pass4', 'lectura']\n",
      "['usuario5', 'pass5', 'actualizar']\n",
      "['usuario6', 'pass6', 'cambiar_permisos']\n",
      "['usuario7', 'pass7', 'borrar']\n",
      "['usuario8', 'pass8', 'conocimiento']\n",
      "['usuario9', 'pass9', 'ninguno']\n",
      "['usuario10', 'pass10', 'agregar']\n",
      "['owner', 'owner', 'owner']\n"
     ]
    }
   ],
   "source": [
    "def leerUsuarios():\n",
    "    listUsers = []\n",
    "    with open(\"Usuarios.csv\", \"r\") as usuarios:\n",
    "        lectorUsuarios = csv.reader(usuarios)\n",
    "        next(lectorUsuarios)\n",
    "        for user in lectorUsuarios:\n",
    "            listUsers.append(user)\n",
    "    return listUsers\n",
    "\n",
    "listUsers = leerUsuarios()\n",
    "for i in listUsers:\n",
    "    print(i)"
   ]
  },
  {
   "cell_type": "markdown",
   "metadata": {},
   "source": [
    "L E E R _ A R C H I V O S"
   ]
  },
  {
   "cell_type": "code",
   "execution_count": 5,
   "metadata": {},
   "outputs": [],
   "source": [
    "def leerArchivos():\n",
    "    with open(\"Archivos.csv\", \"r\") as archivos:\n",
    "        lectorArchivos = csv.reader(archivos)\n",
    "        #for file in lectorArchivos:\n",
    "            #print(1)\n",
    "leerArchivos()"
   ]
  },
  {
   "cell_type": "markdown",
   "metadata": {},
   "source": [
    "I N S E R T A R _ E N _ B T R E E"
   ]
  },
  {
   "cell_type": "code",
   "execution_count": 6,
   "metadata": {},
   "outputs": [],
   "source": [
    "import csv\n",
    "\n",
    "def insert_from_csv(b_tree, file_name):\n",
    "    with open(file_name, \"r\") as archivos:\n",
    "        lectorArchivos = csv.reader(archivos)\n",
    "        for lector in lectorArchivos:\n",
    "            if len(lector) >= 9:\n",
    "                key, value = lector[0].strip(), lector[1].strip()\n",
    "                data = Data(key, value)\n",
    "                b_tree.insert(data)\n",
    "\n",
    "b_tree = BTree(3) \n",
    "insert_from_csv(b_tree, 'Archivos.csv')  \n",
    "#b_tree.traverse()\n",
    "\n"
   ]
  },
  {
   "cell_type": "markdown",
   "metadata": {},
   "source": [
    "B U S C A R _ A R C H I V O"
   ]
  },
  {
   "cell_type": "code",
   "execution_count": 7,
   "metadata": {},
   "outputs": [],
   "source": [
    "def buscarArchivo():\n",
    "    name = input(\"Ingresa el archivo a buscar: \")\n",
    "    with open('Archivos.csv', 'r', newline=\"\") as archivo:\n",
    "        lector = csv.reader(archivo)\n",
    "        next(lector)\n",
    "        for linea in lector:\n",
    "            if linea[0] == name:\n",
    "                return f\"Nombre{linea[0]}, contenido{linea[1]}\"\n",
    "        return \"Archivo no encontrado\"\n",
    "    "
   ]
  },
  {
   "cell_type": "markdown",
   "metadata": {},
   "source": [
    "N U E V O _ A R C H I V O"
   ]
  },
  {
   "cell_type": "code",
   "execution_count": 8,
   "metadata": {},
   "outputs": [],
   "source": [
    "def nuevoArchivo():\n",
    "    nombre = input(\"Nombre del archivo: \")\n",
    "    contenido = input(\"Contenido del archivo: \")\n",
    "    propietario = input(\"Propietario del archivo: \")\n",
    "    print(\"Indique true or false\")\n",
    "    abrir = input(\"Abrir?\").lower()\n",
    "    crear = input(\"Crear?\").lower()\n",
    "    cerrar = input(\"Cerrar?\").lower()\n",
    "    lectura = input(\"Lectura?\").lower()\n",
    "    escritura = input(\"Escritura?\").lower()\n",
    "    borrar = input(\"Borrar?\").lower()\n",
    "    file = [nombre, contenido, propietario, abrir, crear, cerrar, lectura, escritura, borrar]\n",
    "    return file"
   ]
  },
  {
   "cell_type": "markdown",
   "metadata": {},
   "source": [
    "A G R E G A R _ A R C H I V O"
   ]
  },
  {
   "cell_type": "code",
   "execution_count": 9,
   "metadata": {},
   "outputs": [],
   "source": [
    "def agregarArchivo(file):\n",
    "    with open (\"Archivos.csv\", \"a\", newline=\"\") as archivo:\n",
    "        escritor = csv.writer(archivo)\n",
    "        escritor.writerow(file)"
   ]
  },
  {
   "cell_type": "markdown",
   "metadata": {},
   "source": [
    "E L I M I N A R _ A R C H I V O"
   ]
  },
  {
   "cell_type": "code",
   "execution_count": 10,
   "metadata": {},
   "outputs": [],
   "source": [
    "def eliminarArchivo(file):\n",
    "    filas = []\n",
    "    with open(\"Archivos.csv\", \"r\", newline=\"\") as archivo:\n",
    "        lector = csv.reader(archivo)\n",
    "        for fila in lector:\n",
    "            if fila[0] != file:\n",
    "                filas.append(fila)\n",
    "    \n",
    "    with open(\"Archivos.csv\", \"w\", newline=\"\") as archivo:\n",
    "        escritor = csv.writer(archivo)\n",
    "        escritor.writerows(filas)\n"
   ]
  },
  {
   "cell_type": "markdown",
   "metadata": {},
   "source": [
    "B U S C A R _ U S U A R I O"
   ]
  },
  {
   "cell_type": "code",
   "execution_count": 11,
   "metadata": {},
   "outputs": [],
   "source": [
    "def buscarUsuario():\n",
    "    global userValido\n",
    "    global userInvalido\n",
    "    name = input(\"Ingresa tu nombre de usuario: \")\n",
    "    with open('Usuarios.csv', 'r', newline=\"\") as archivo:\n",
    "        lector = csv.reader(archivo)\n",
    "        next(lector)\n",
    "        for linea in lector:\n",
    "            if linea[0] == name:\n",
    "                password = input(\"Ingresa la contraseña: \")\n",
    "                if linea[1] == password:\n",
    "                    userValido += 1\n",
    "                    print(f\"Usuario encontrado: Nombre: {linea[0]}, Contraseña: {linea[1]}\")\n",
    "                    return linea\n",
    "                else:\n",
    "                    userInvalido += 1\n",
    "                    print(\"Contraseña incorrecta\")\n",
    "                    return None\n",
    "        print(\"Usuario no encontrado\")\n",
    "        return None"
   ]
  },
  {
   "cell_type": "markdown",
   "metadata": {},
   "source": [
    "P E R M I S O S"
   ]
  },
  {
   "cell_type": "code",
   "execution_count": 12,
   "metadata": {},
   "outputs": [],
   "source": [
    "def tiene_permiso(usuario, accion):\n",
    "    permisos = {\n",
    "        'buscar': ['lectura', 'ejecucion', 'owner'],\n",
    "        'agregar': ['agregar', 'escritura', 'ejecucion', 'actualizar', 'owner'],\n",
    "        'listar': ['lectura', 'owner'],\n",
    "        'eliminar': ['borrar', 'actualizar', 'lectura', 'owner'],\n",
    "        'estadisticas': ['lectura', 'owner']\n",
    "    }\n",
    "    return usuario[2] in permisos.get(accion, [])"
   ]
  },
  {
   "cell_type": "markdown",
   "metadata": {},
   "source": [
    "E S T A D I S T I C A S _ P I E"
   ]
  },
  {
   "cell_type": "code",
   "execution_count": 13,
   "metadata": {},
   "outputs": [
    {
     "name": "stdout",
     "output_type": "stream",
     "text": [
      "Estadísticas de acceso: {'a b r i r': 494, 'c r e a r': 535, 'c e r r a r': 496, 'l e e r': 507, 'e s c r i b i r': 515, 'b o r r a r': 466}\n"
     ]
    },
    {
     "data": {
      "image/png": "[encoded data removed]",
      "text/plain": [
       "<Figure size 640x480 with 1 Axes>"
      ]
     },
     "metadata": {},
     "output_type": "display_data"
    }
   ],
   "source": [
    "def pieAcceso():\n",
    "    datos = {'a b r i r': 0, 'c r e a r': 0, 'c e r r a r': 0, 'l e e r': 0, 'e s c r i b i r': 0, 'b o r r a r': 0}\n",
    "\n",
    "    with open('Archivos.csv', 'r', newline=\"\") as archivo:\n",
    "        lector = csv.reader(archivo)\n",
    "        next(lector)  # Saltar la cabecera\n",
    "        for linea in lector:\n",
    "            permisos = {\n",
    "                'a b r i r': linea[3].lower() == 'true',\n",
    "                'c r e a r': linea[4].lower() == 'true',\n",
    "                'c e r r a r': linea[5].lower() == 'true',\n",
    "                'l e e r': linea[6].lower() == 'true',\n",
    "                'e s c r i b i r': linea[7].lower() == 'true',\n",
    "                'b o r r a r': linea[8].lower() == 'true'\n",
    "            }\n",
    "            for permiso, valor in permisos.items():\n",
    "                if valor:  \n",
    "                    datos[permiso] += 1 \n",
    "    print(\"Estadísticas de acceso:\", datos)\n",
    "    labels = datos.keys() \n",
    "    sizes = datos.values() \n",
    "    colores = ['#574b90', '#6c567b', '#8e79b9', '#a191d0', '#c3aed6', '#d5c6e0']\n",
    "    plt.pie(sizes, labels=labels, autopct='%1.1f%%', startangle=150, colors = colores, \n",
    "            shadow = True, explode = (0.2, 0.2, 0.2, 0.2, 0.2, 0.2));\n",
    "    plt.title(\"E S T A D I S T I C A S\")\n",
    "    plt.show()\n",
    "    \n",
    "pieAcceso()"
   ]
  },
  {
   "cell_type": "markdown",
   "metadata": {},
   "source": [
    "E S T A D I S T I C A S _ B A R R A S"
   ]
  },
  {
   "cell_type": "code",
   "execution_count": 14,
   "metadata": {},
   "outputs": [],
   "source": [
    "def barrasInicio():\n",
    "    global datosInicioSesion\n",
    "    x = ['v a l i d o s', 'i n v a l i d o s']\n",
    "    y = datosInicioSesion\n",
    "    colors = ['#6c567b', '#d5c6e0']\n",
    "              \n",
    "    plt.subplot()\n",
    "    plt.bar(x = x, height = y, color = colors)\n",
    "    plt.title(\"I N I C I O S  D E  S E S I O N\")\n",
    "    plt.show()\n"
   ]
  },
  {
   "cell_type": "markdown",
   "metadata": {},
   "source": [
    "M A I N"
   ]
  },
  {
   "cell_type": "code",
   "execution_count": 15,
   "metadata": {},
   "outputs": [
    {
     "name": "stdout",
     "output_type": "stream",
     "text": [
      "===== M E N U =====\n",
      "1) Iniciar sesión\n",
      "2) Salir\n"
     ]
    },
    {
     "name": "stdout",
     "output_type": "stream",
     "text": [
      "Usuario no encontrado\n",
      "usuario no valido\n",
      "===== M E N U =====\n",
      "1) Iniciar sesión\n",
      "2) Salir\n",
      "BYEEEEEEE\n"
     ]
    }
   ],
   "source": [
    "def main():\n",
    "    global userValido\n",
    "    global userInvalido\n",
    "    global datosInicioSesion\n",
    "    \n",
    "    datosInicioSesion = [userValido, userInvalido]\n",
    "    \n",
    "    opcionInicio = 0\n",
    "    while opcionInicio != 2:\n",
    "        print(\"===== M E N U =====\")\n",
    "        print(\"1) Iniciar sesión\")\n",
    "        print(\"2) Salir\")\n",
    "        opcionInicio = int(input(\"\\nElige \"))\n",
    "        \n",
    "        match opcionInicio:\n",
    "            case 1:\n",
    "                usuario = buscarUsuario()\n",
    "                if usuario:\n",
    "                    userValido += 1\n",
    "                    datosInicioSesion = [userValido, userInvalido]\n",
    "                    if usuario[2] == 'ninguno':\n",
    "                        print(\"Acceso denegado\")\n",
    "                        continue\n",
    "                    elif usuario[2] == 'conocimiento':\n",
    "                        print(\"Directorio de Estrella\")\n",
    "                        continue\n",
    "                    else:\n",
    "                        opcion = 0\n",
    "                        while opcion != 6: \n",
    "                            print(\"===== M E N U =====\")\n",
    "                            print(\"1) Buscar archivo\")\n",
    "                            print(\"2) Agregar archivo\")\n",
    "                            print(\"3) Listar archivos\")\n",
    "                            print(\"4) Mostrar estadísticas\")\n",
    "                            print(\"5) Eliminar archivo\") \n",
    "                            print(\"6) Cerrar sesión\") \n",
    "                            opcion = int(input(\"\\n\\tOpción: \"))\n",
    "\n",
    "                            match opcion:\n",
    "                                case 1:  # Buscar archivo\n",
    "                                    if tiene_permiso(usuario, 'buscar'):\n",
    "                                        print(buscarArchivo())\n",
    "                                    else:\n",
    "                                        print(\"\\tNo tienes permiso para buscar archivos.\")\n",
    "\n",
    "                                case 2:  # Agregar archivo\n",
    "                                    if tiene_permiso(usuario, 'agregar'):\n",
    "                                        file = nuevoArchivo()\n",
    "                                        agregarArchivo(file)\n",
    "                                    else:\n",
    "                                        print(\"\\tNo tienes permiso para agregar archivos.\")\n",
    "\n",
    "                                case 3:  # Listar archivos\n",
    "                                    if tiene_permiso(usuario, 'listar'):\n",
    "                                        leerArchivos()\n",
    "                                    else:\n",
    "                                        print(\"\\tNo tienes permiso para leer archivos.\")\n",
    "\n",
    "                                case 4:  # Mostrar estadísticas\n",
    "                                    pieAcceso()\n",
    "                                    barrasInicio()\n",
    "\n",
    "                                case 5:  # Eliminar archivo\n",
    "                                    #if tiene_permiso(usuario, 'eliminar'): \n",
    "                                    #    archivoEliminar = input(\"\\n\\tNombre del archivo a eliminar: \")\n",
    "                                    #    eliminarArchivo(archivoEliminar)\n",
    "                                    #else:\n",
    "                                    #    print(\"\\tNo tienes permiso para eliminar archivos.\")\n",
    "                                    print(\"Por el momento la funcion eliminar no esta disponible\")\n",
    "\n",
    "                                case 6:  # Cerrar sesión\n",
    "                                    print(\"\\tCerrar sesión\")\n",
    "                                    break  \n",
    "                                case _:  # Opción no válida\n",
    "                                    print(\"\\tOpción no válida\")\n",
    "                else:\n",
    "                    userInvalido += 1\n",
    "                    print(\"usuario no valido\")\n",
    "                    datosInicioSesion = [userValido, userInvalido]\n",
    "    print(\"BYEEEEEEE\")\n",
    "\n",
    "userValido = 0\n",
    "userInvalido = 0\n",
    "listUsers = leerUsuarios()\n",
    "main()"
   ]
  },
  {
   "cell_type": "markdown",
   "metadata": {},
   "source": [
    "**Conclusiones:** En lo personal, la realización de esta práctica fue mi favorita, fue bastante entretenido realizar las funciones y verificaciones, además de los archivos que hay y el diseño de las gráficas de estadisticas. Todo esto fue \"sencillo\" debido a que ya había hecho un ejercicio similar en otro curso. Por otro lado, irónicamente lo más complejo fue la inserción en el árbol B, ya que debía verificar varias cosas.\n",
    "\n",
    "Considero que el objetivo de conocer e identificar los aspectos sobre los archivos, como las operaciones, el tipo de acceso y organización lógica se cumplió satisfactoriamente. "
   ]
  }
 ],
 "metadata": {
  "kernelspec": {
   "display_name": "Python 3",
   "language": "python",
   "name": "python3"
  },
  "language_info": {
   "codemirror_mode": {
    "name": "ipython",
    "version": 3
   },
   "file_extension": ".py",
   "mimetype": "text/x-python",
   "name": "python",
   "nbconvert_exporter": "python",
   "pygments_lexer": "ipython3",
   "version": "3.12.1"
  }
 },
 "nbformat": 4,
 "nbformat_minor": 2
}
